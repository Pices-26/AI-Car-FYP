{
 "cells": [
  {
   "cell_type": "code",
   "execution_count": 2,
   "id": "later-control",
   "metadata": {},
   "outputs": [],
   "source": [
    "#data import\n",
    "from skimage.io import imread\n",
    "import cv2\n",
    "import numpy as np\n",
    "import matplotlib.pyplot as plt\n",
    "import pandas as pd\n",
    "\n",
    "#gpu import\n",
    "import tensorflow as tf\n",
    "from tensorflow.compat.v1 import ConfigProto\n",
    "from tensorflow.compat.v1 import InteractiveSession\n",
    "\n",
    "#model imports\n",
    "from tensorflow.keras.models import Sequential\n",
    "from tensorflow.keras.layers import Dense, Dropout, Activation, Flatten, Conv2D, MaxPooling2D\n",
    "from tensorflow.keras.optimizers import Adam\n",
    "from tensorflow.keras.optimizers.schedules import ExponentialDecay\n",
    "from tensorflow.keras.applications.resnet50 import ResNet50\n",
    "from tensorflow.keras.applications.resnet_v2 import ResNet50V2\n",
    "from tensorflow.keras.activations import sigmoid\n",
    "from tensorflow.keras.metrics import mean_squared_error"
   ]
  },
  {
   "cell_type": "code",
   "execution_count": 3,
   "id": "interim-marijuana",
   "metadata": {},
   "outputs": [
    {
     "name": "stdout",
     "output_type": "stream",
     "text": [
      "Num GPUs Available:  1\n"
     ]
    }
   ],
   "source": [
    "#setup GPU\n",
    "print(\"Num GPUs Available: \", len(tf.config.experimental.list_physical_devices('GPU')))\n",
    "config = ConfigProto()\n",
    "config.gpu_options.allow_growth = True\n",
    "session = InteractiveSession(config=config)"
   ]
  },
  {
   "cell_type": "code",
   "execution_count": 4,
   "id": "irish-administration",
   "metadata": {},
   "outputs": [],
   "source": [
    "#image processing function\n",
    "IMG_H = int(170/3)\n",
    "IMG_W = int(432/3)\n",
    "#IMG_D = 3\n",
    "def preprocessImg(img):\n",
    "    img = img[70:240,0:432] #170,432,3\n",
    "    h,w,d = img.shape\n",
    "    img = cv2.cvtColor(img, cv2.COLOR_RGB2YUV)\n",
    "    img = cv2.resize(img,(int(w/3),int(h/3)))\n",
    "    img = cv2.GaussianBlur(img, (3, 3), 0)\n",
    "    img = img/255.0\n",
    "    return img"
   ]
  },
  {
   "cell_type": "code",
   "execution_count": 5,
   "id": "sublime-helmet",
   "metadata": {},
   "outputs": [
    {
     "data": {
      "text/html": [
       "<div>\n",
       "<style scoped>\n",
       "    .dataframe tbody tr th:only-of-type {\n",
       "        vertical-align: middle;\n",
       "    }\n",
       "\n",
       "    .dataframe tbody tr th {\n",
       "        vertical-align: top;\n",
       "    }\n",
       "\n",
       "    .dataframe thead th {\n",
       "        text-align: right;\n",
       "    }\n",
       "</style>\n",
       "<table border=\"1\" class=\"dataframe\">\n",
       "  <thead>\n",
       "    <tr style=\"text-align: right;\">\n",
       "      <th></th>\n",
       "      <th>2</th>\n",
       "    </tr>\n",
       "  </thead>\n",
       "  <tbody>\n",
       "    <tr>\n",
       "      <th>0</th>\n",
       "      <td>0.0</td>\n",
       "    </tr>\n",
       "    <tr>\n",
       "      <th>1</th>\n",
       "      <td>0.0</td>\n",
       "    </tr>\n",
       "    <tr>\n",
       "      <th>2</th>\n",
       "      <td>0.0</td>\n",
       "    </tr>\n",
       "    <tr>\n",
       "      <th>3</th>\n",
       "      <td>0.0</td>\n",
       "    </tr>\n",
       "    <tr>\n",
       "      <th>4</th>\n",
       "      <td>0.0</td>\n",
       "    </tr>\n",
       "    <tr>\n",
       "      <th>...</th>\n",
       "      <td>...</td>\n",
       "    </tr>\n",
       "    <tr>\n",
       "      <th>16195</th>\n",
       "      <td>-1.0</td>\n",
       "    </tr>\n",
       "    <tr>\n",
       "      <th>16196</th>\n",
       "      <td>-1.0</td>\n",
       "    </tr>\n",
       "    <tr>\n",
       "      <th>16197</th>\n",
       "      <td>-1.0</td>\n",
       "    </tr>\n",
       "    <tr>\n",
       "      <th>16198</th>\n",
       "      <td>-1.0</td>\n",
       "    </tr>\n",
       "    <tr>\n",
       "      <th>16199</th>\n",
       "      <td>-1.0</td>\n",
       "    </tr>\n",
       "  </tbody>\n",
       "</table>\n",
       "<p>16200 rows × 1 columns</p>\n",
       "</div>"
      ],
      "text/plain": [
       "         2\n",
       "0      0.0\n",
       "1      0.0\n",
       "2      0.0\n",
       "3      0.0\n",
       "4      0.0\n",
       "...    ...\n",
       "16195 -1.0\n",
       "16196 -1.0\n",
       "16197 -1.0\n",
       "16198 -1.0\n",
       "16199 -1.0\n",
       "\n",
       "[16200 rows x 1 columns]"
      ]
     },
     "execution_count": 5,
     "metadata": {},
     "output_type": "execute_result"
    }
   ],
   "source": [
    "#read in pandas data\n",
    "#1. read in full data\n",
    "steeringDataAll = pd.read_csv('big100night/labeled_data.csv',header=None)\n",
    "steeringData = steeringDataAll[:16200]\n",
    "test_data = steeringDataAll[16200:]\n",
    "#2. drop name of frame column\n",
    "steeringDataNoImg = steeringData.drop(steeringData.columns[0:2],axis=1)\n",
    "steeringDataNoImg"
   ]
  },
  {
   "cell_type": "code",
   "execution_count": 6,
   "id": "caring-fraction",
   "metadata": {},
   "outputs": [],
   "source": [
    "#read in images to array + preprocess\n",
    "dataDir = 'big100night/frames/'\n",
    "dataFormat = '.jpg'\n",
    "dataImages = []\n",
    "for i in steeringData[0]:\n",
    "    img = imread('{}{}{}'.format(dataDir,i,dataFormat), as_gray=False)\n",
    "    img = preprocessImg(img)\n",
    "    dataImages.append(img)"
   ]
  },
  {
   "cell_type": "code",
   "execution_count": 7,
   "id": "mature-wedding",
   "metadata": {},
   "outputs": [
    {
     "data": {
      "text/html": [
       "<div>\n",
       "<style scoped>\n",
       "    .dataframe tbody tr th:only-of-type {\n",
       "        vertical-align: middle;\n",
       "    }\n",
       "\n",
       "    .dataframe tbody tr th {\n",
       "        vertical-align: top;\n",
       "    }\n",
       "\n",
       "    .dataframe thead th {\n",
       "        text-align: right;\n",
       "    }\n",
       "</style>\n",
       "<table border=\"1\" class=\"dataframe\">\n",
       "  <thead>\n",
       "    <tr style=\"text-align: right;\">\n",
       "      <th></th>\n",
       "      <th>2</th>\n",
       "    </tr>\n",
       "  </thead>\n",
       "  <tbody>\n",
       "    <tr>\n",
       "      <th>0</th>\n",
       "      <td>0.0</td>\n",
       "    </tr>\n",
       "    <tr>\n",
       "      <th>1</th>\n",
       "      <td>0.0</td>\n",
       "    </tr>\n",
       "    <tr>\n",
       "      <th>2</th>\n",
       "      <td>0.0</td>\n",
       "    </tr>\n",
       "    <tr>\n",
       "      <th>3</th>\n",
       "      <td>0.0</td>\n",
       "    </tr>\n",
       "    <tr>\n",
       "      <th>4</th>\n",
       "      <td>0.0</td>\n",
       "    </tr>\n",
       "    <tr>\n",
       "      <th>...</th>\n",
       "      <td>...</td>\n",
       "    </tr>\n",
       "    <tr>\n",
       "      <th>16195</th>\n",
       "      <td>-1.0</td>\n",
       "    </tr>\n",
       "    <tr>\n",
       "      <th>16196</th>\n",
       "      <td>-1.0</td>\n",
       "    </tr>\n",
       "    <tr>\n",
       "      <th>16197</th>\n",
       "      <td>-1.0</td>\n",
       "    </tr>\n",
       "    <tr>\n",
       "      <th>16198</th>\n",
       "      <td>-1.0</td>\n",
       "    </tr>\n",
       "    <tr>\n",
       "      <th>16199</th>\n",
       "      <td>-1.0</td>\n",
       "    </tr>\n",
       "  </tbody>\n",
       "</table>\n",
       "<p>16200 rows × 1 columns</p>\n",
       "</div>"
      ],
      "text/plain": [
       "         2\n",
       "0      0.0\n",
       "1      0.0\n",
       "2      0.0\n",
       "3      0.0\n",
       "4      0.0\n",
       "...    ...\n",
       "16195 -1.0\n",
       "16196 -1.0\n",
       "16197 -1.0\n",
       "16198 -1.0\n",
       "16199 -1.0\n",
       "\n",
       "[16200 rows x 1 columns]"
      ]
     },
     "execution_count": 7,
     "metadata": {},
     "output_type": "execute_result"
    }
   ],
   "source": [
    "#images to numpy array\n",
    "X = np.array(dataImages).reshape(-1,IMG_H,IMG_W,3)\n",
    "steeringDataNoImg"
   ]
  },
  {
   "cell_type": "code",
   "execution_count": 8,
   "id": "roman-connecticut",
   "metadata": {},
   "outputs": [],
   "source": [
    "def preprocessPredImg(img):\n",
    "    img = img[70:240,0:432] #170,432,3\n",
    "    h,w,d = img.shape\n",
    "    img = cv2.cvtColor(img, cv2.COLOR_RGB2YUV)\n",
    "    img = cv2.resize(img,(int(w/3),int(h/3)))\n",
    "    img = cv2.GaussianBlur(img, (3, 3), 0)\n",
    "    img = img/255.0\n",
    "    return img.reshape(-1,IMG_H,IMG_W,3)"
   ]
  },
  {
   "cell_type": "code",
   "execution_count": 14,
   "id": "optical-wellington",
   "metadata": {},
   "outputs": [
    {
     "name": "stdout",
     "output_type": "stream",
     "text": [
      "Epoch 1/2\n",
      "29/29 [==============================] - 6s 151ms/step - loss: 8.8409 - mean_squared_error: 8.8409 - val_loss: 1.5674 - val_mean_squared_error: 1.5674\n",
      "Epoch 2/2\n",
      "29/29 [==============================] - 4s 125ms/step - loss: 2.3936 - mean_squared_error: 2.3936 - val_loss: 1.2928 - val_mean_squared_error: 1.2928\n"
     ]
    }
   ],
   "source": [
    "#reading in ResNet50V2\n",
    "resnet = ResNet50V2(weights='imagenet', include_top=False,input_shape=X.shape[1:])\n",
    "\n",
    "#removing last 4 layers which will be replaced\n",
    "for layer in resnet.layers[:-4]:\n",
    "    layer.trainable = False\n",
    "\n",
    "#adding on 4 custom layers to resnet50v2    \n",
    "def custom_resnet():\n",
    "  model = tf.keras.Sequential()\n",
    "  model.add(resnet)\n",
    "    \n",
    "  model.add(Dropout(0.5))  \n",
    "  model.add(Flatten())\n",
    "  \n",
    "  model.add(Dense(100, activation='elu'))\n",
    "  model.add(Dropout(0.5))\n",
    "\n",
    "  model.add(Dense(50, activation='elu'))\n",
    "  model.add(Dropout(0.5))\n",
    "\n",
    "  model.add(Dense(10, activation='elu'))\n",
    "  model.add(Dropout(0.5))\n",
    "\n",
    "  model.add(Dense(1))\n",
    "  \n",
    "  optimizer = Adam(lr=1e-3)\n",
    "  model.compile(loss='mse', optimizer=optimizer, metrics=[mean_squared_error])\n",
    "  return model\n",
    "#creating custom ResNet50v2\n",
    "resnet_custom = custom_resnet()\n",
    "#traning the model\n",
    "hist = resnet_custom.fit(X,steeringDataNoImg,epochs=2,batch_size=512, validation_split=0.1,verbose=1)"
   ]
  },
  {
   "cell_type": "code",
   "execution_count": 15,
   "id": "super-channels",
   "metadata": {},
   "outputs": [
    {
     "data": {
      "text/plain": [
       "Text(0.5, 1.0, 'loss over time')"
      ]
     },
     "execution_count": 15,
     "metadata": {},
     "output_type": "execute_result"
    },
    {
     "data": {
      "image/png": "[encoded data removed]",
      "text/plain": [
       "<Figure size 432x288 with 1 Axes>"
      ]
     },
     "metadata": {
      "needs_background": "light"
     },
     "output_type": "display_data"
    }
   ],
   "source": [
    "#plotting results\n",
    "plt.plot(hist.history['loss'])\n",
    "plt.plot(hist.history['val_loss'])\n",
    "plt.legend(['training', 'validation'])\n",
    "plt.ylabel('MSE score')\n",
    "plt.xlabel('Epoch')\n",
    "plt.title('loss over time')"
   ]
  },
  {
   "cell_type": "code",
   "execution_count": null,
   "id": "removed-frequency",
   "metadata": {},
   "outputs": [],
   "source": [
    "inc = 16200\n",
    "for i in test_data[0]:\n",
    "    testImage = imread('{}{}{}'.format(dataDir,i,dataFormat), as_gray=False)\n",
    "    p = resnet1.predict([preprocessPredImg(testImage)])\n",
    "    print(\"Number: {} Prediction value: {:.3f} Actual Value: {}\".format(inc,p[0][0],test_data[2][inc]))\n",
    "    inc+=1"
   ]
  },
  {
   "cell_type": "code",
   "execution_count": null,
   "id": "earlier-choice",
   "metadata": {},
   "outputs": [],
   "source": [
    "resnet1.save('resnight100_300.h5')"
   ]
  },
  {
   "cell_type": "code",
   "execution_count": null,
   "id": "defined-cholesterol",
   "metadata": {},
   "outputs": [],
   "source": []
  }
 ],
 "metadata": {
  "kernelspec": {
   "display_name": "Python 3",
   "language": "python",
   "name": "python3"
  },
  "language_info": {
   "codemirror_mode": {
    "name": "ipython",
    "version": 3
   },
   "file_extension": ".py",
   "mimetype": "text/x-python",
   "name": "python",
   "nbconvert_exporter": "python",
   "pygments_lexer": "ipython3",
   "version": "3.6.9"
  }
 },
 "nbformat": 4,
 "nbformat_minor": 5
}
